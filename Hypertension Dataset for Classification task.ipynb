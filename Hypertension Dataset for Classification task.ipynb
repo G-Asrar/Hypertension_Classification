{
 "cells": [
  {
   "cell_type": "markdown",
   "metadata": {
    "id": "Tt1CrMFniajE"
   },
   "source": [
    "# **Importing datasets:**"
   ]
  },
  {
   "cell_type": "code",
   "execution_count": 1,
   "metadata": {
    "executionInfo": {
     "elapsed": 1549,
     "status": "ok",
     "timestamp": 1676092894950,
     "user": {
      "displayName": "Sora S",
      "userId": "17808392757157594256"
     },
     "user_tz": -180
    },
    "id": "jJgHxlXKgGea"
   },
   "outputs": [],
   "source": [
    "import pandas as pd\n",
    "import numpy as np\n",
    "import matplotlib.pyplot as plt\n",
    "import seaborn as sns"
   ]
  },
  {
   "cell_type": "markdown",
   "metadata": {
    "id": "4QgNdT3NjWOl"
   },
   "source": [
    "## **Hypertension Dataset for Classification task**"
   ]
  },
  {
   "cell_type": "code",
   "execution_count": 2,
   "metadata": {
    "colab": {
     "base_uri": "https://localhost:8080/",
     "height": 206
    },
    "executionInfo": {
     "elapsed": 19,
     "status": "ok",
     "timestamp": 1676092894950,
     "user": {
      "displayName": "Sora S",
      "userId": "17808392757157594256"
     },
     "user_tz": -180
    },
    "id": "moakgkUIjB4t",
    "outputId": "f6bb3c19-815a-43ca-beb4-f0ede976fac0"
   },
   "outputs": [
    {
     "data": {
      "text/html": [
       "<div>\n",
       "<style scoped>\n",
       "    .dataframe tbody tr th:only-of-type {\n",
       "        vertical-align: middle;\n",
       "    }\n",
       "\n",
       "    .dataframe tbody tr th {\n",
       "        vertical-align: top;\n",
       "    }\n",
       "\n",
       "    .dataframe thead th {\n",
       "        text-align: right;\n",
       "    }\n",
       "</style>\n",
       "<table border=\"1\" class=\"dataframe\">\n",
       "  <thead>\n",
       "    <tr style=\"text-align: right;\">\n",
       "      <th></th>\n",
       "      <th>age</th>\n",
       "      <th>sex</th>\n",
       "      <th>cp</th>\n",
       "      <th>trestbps</th>\n",
       "      <th>chol</th>\n",
       "      <th>fbs</th>\n",
       "      <th>restecg</th>\n",
       "      <th>thalach</th>\n",
       "      <th>exang</th>\n",
       "      <th>oldpeak</th>\n",
       "      <th>slope</th>\n",
       "      <th>ca</th>\n",
       "      <th>thal</th>\n",
       "      <th>target</th>\n",
       "    </tr>\n",
       "  </thead>\n",
       "  <tbody>\n",
       "    <tr>\n",
       "      <th>0</th>\n",
       "      <td>57.0</td>\n",
       "      <td>1.0</td>\n",
       "      <td>3</td>\n",
       "      <td>145</td>\n",
       "      <td>233</td>\n",
       "      <td>1</td>\n",
       "      <td>0</td>\n",
       "      <td>150</td>\n",
       "      <td>0</td>\n",
       "      <td>2.3</td>\n",
       "      <td>0</td>\n",
       "      <td>0</td>\n",
       "      <td>1</td>\n",
       "      <td>1</td>\n",
       "    </tr>\n",
       "    <tr>\n",
       "      <th>1</th>\n",
       "      <td>64.0</td>\n",
       "      <td>0.0</td>\n",
       "      <td>2</td>\n",
       "      <td>130</td>\n",
       "      <td>250</td>\n",
       "      <td>0</td>\n",
       "      <td>1</td>\n",
       "      <td>187</td>\n",
       "      <td>0</td>\n",
       "      <td>3.5</td>\n",
       "      <td>0</td>\n",
       "      <td>0</td>\n",
       "      <td>2</td>\n",
       "      <td>1</td>\n",
       "    </tr>\n",
       "    <tr>\n",
       "      <th>2</th>\n",
       "      <td>52.0</td>\n",
       "      <td>1.0</td>\n",
       "      <td>1</td>\n",
       "      <td>130</td>\n",
       "      <td>204</td>\n",
       "      <td>0</td>\n",
       "      <td>0</td>\n",
       "      <td>172</td>\n",
       "      <td>0</td>\n",
       "      <td>1.4</td>\n",
       "      <td>2</td>\n",
       "      <td>0</td>\n",
       "      <td>2</td>\n",
       "      <td>1</td>\n",
       "    </tr>\n",
       "    <tr>\n",
       "      <th>3</th>\n",
       "      <td>56.0</td>\n",
       "      <td>0.0</td>\n",
       "      <td>1</td>\n",
       "      <td>120</td>\n",
       "      <td>236</td>\n",
       "      <td>0</td>\n",
       "      <td>1</td>\n",
       "      <td>178</td>\n",
       "      <td>0</td>\n",
       "      <td>0.8</td>\n",
       "      <td>2</td>\n",
       "      <td>0</td>\n",
       "      <td>2</td>\n",
       "      <td>1</td>\n",
       "    </tr>\n",
       "    <tr>\n",
       "      <th>4</th>\n",
       "      <td>66.0</td>\n",
       "      <td>0.0</td>\n",
       "      <td>0</td>\n",
       "      <td>120</td>\n",
       "      <td>354</td>\n",
       "      <td>0</td>\n",
       "      <td>1</td>\n",
       "      <td>163</td>\n",
       "      <td>1</td>\n",
       "      <td>0.6</td>\n",
       "      <td>2</td>\n",
       "      <td>0</td>\n",
       "      <td>2</td>\n",
       "      <td>1</td>\n",
       "    </tr>\n",
       "  </tbody>\n",
       "</table>\n",
       "</div>"
      ],
      "text/plain": [
       "    age  sex  cp  trestbps  chol  fbs  restecg  thalach  exang  oldpeak  \\\n",
       "0  57.0  1.0   3       145   233    1        0      150      0      2.3   \n",
       "1  64.0  0.0   2       130   250    0        1      187      0      3.5   \n",
       "2  52.0  1.0   1       130   204    0        0      172      0      1.4   \n",
       "3  56.0  0.0   1       120   236    0        1      178      0      0.8   \n",
       "4  66.0  0.0   0       120   354    0        1      163      1      0.6   \n",
       "\n",
       "   slope  ca  thal  target  \n",
       "0      0   0     1       1  \n",
       "1      0   0     2       1  \n",
       "2      2   0     2       1  \n",
       "3      2   0     2       1  \n",
       "4      2   0     2       1  "
      ]
     },
     "execution_count": 2,
     "metadata": {},
     "output_type": "execute_result"
    }
   ],
   "source": [
    "df_h = pd.read_csv(\"hypertension_data.csv\")\n",
    "df_h.head()"
   ]
  },
  {
   "cell_type": "markdown",
   "metadata": {
    "id": "xA7MnNbPo-cJ"
   },
   "source": [
    "* **age**\tThe patient's age (in years).\n",
    "* **sex**\tThe patient's gender (1: male; 0: female).\n",
    "* **cp**\tChest pain type:\n",
    "> * 0: asymptomatic\n",
    "> * 1: typical angina\n",
    "> * 2: atypical angina\n",
    "> * 3: non-anginal pain\n",
    "* **trestbps**\tResting blood pressure (in mm Hg).\n",
    "* **chol**\tSerum cholestoral in mg/dl.\n",
    "* **fbs**\tWhether the patient's fasting blood sugar > 120 mg/dl (1: yes; 0: no).\n",
    "* **restecg**\tResting ECG results:\n",
    "> * 0: normal\n",
    "> * 1: ST-T wave abnormality (T wave inversions and/or ST elevation or depression of > 0.05 mV)\n",
    "> * 2: probable or definite left ventricular hypertrophy by Estes' criteria\n",
    "* **thalach**\tMaximum heart rate achieved.\n",
    "* **exang**\tExercise induced angina (1: yes; 0: no).\n",
    "* **oldpeak**\tST depression induced by exercise relative to rest.\n",
    "* **slope**\tThe slope of the peak exercise ST segment:\n",
    "> * 0: upsloping\n",
    "> * 1: flat\n",
    "> * 2: downsloping\n",
    "* **ca**\tNumber of major vessels (0–3) colored by flourosopy.\n",
    "* **thal**\t3: Normal; 6: Fixed defect; 7: Reversable defect.\n",
    "* **target** (target)\tWhether the patient has hypertension (1) or not (0)."
   ]
  },
  {
   "cell_type": "markdown",
   "metadata": {
    "id": "We3dUSrokGvk"
   },
   "source": [
    "# **The target/outcome variable and the predictor variables**\n",
    "\n",
    "**The target variable is :** [target] column, which used to determine if a patient has hypertension disease or not.\n",
    "\n",
    "**The predictors :** the columns [age,\tsex,\tcp,\ttrestbps,\tchol,\tfbs,\trestecg,\tthalach,\texang,\toldpeak,\tslope,\tca,\tthal] are the predictors.\t"
   ]
  },
  {
   "cell_type": "markdown",
   "metadata": {
    "id": "0-62guZKnyl8"
   },
   "source": [
    "# **The aim of the dataset**\n",
    "This dataset is used to pinpoint factors that can cause hypertension. This can help to identify patients at risk of hypertension and provide them with adequate care."
   ]
  },
  {
   "cell_type": "markdown",
   "metadata": {
    "id": "GU7Y5HHKvEpE"
   },
   "source": [
    "# **Specifying the type of the variables’ values**\n",
    "* **age**\t: quantitative variable\n",
    "* **sex**\t: categorical variable (1: male; 0: female)\n",
    "* **cp** :\tcategorical variable [ 0: asymptomatic, 1: typical angina, 2: atypical angina, 3: non-anginal pain ]\n",
    "* **trestbps**\t: quantitative variable\n",
    "* **chol**\t: quantitative variable\n",
    "* **fbs**\t: categorical variable (1: yes; 0: no).\n",
    "* **restecg**\tcategorical variable [0: normal, 1: ST-T wave abnormality, 2: probable]\n",
    "* **thalach**\t: quantitative variable\n",
    "* **exang**\t: categorical variable [1: yes; 0: no]\n",
    "* **oldpeak** :\tquantitative variable\n",
    "* **slope** :\tcategorical variable [0: upsloping, 1: flat, 2: downsloping]\n",
    "* **ca**\t: categorical variable [0–3]\n",
    "* **thal** : categorical variable [3: Normal, 6: Fixed defect, 7: Reversable defect]\n",
    "* **target** : categorical variable [hypertension (1) or not (0)]"
   ]
  },
  {
   "cell_type": "markdown",
   "metadata": {
    "id": "cWWOdb7NLRNy"
   },
   "source": [
    "\n",
    "\n",
    "---\n",
    "\n"
   ]
  },
  {
   "cell_type": "code",
   "execution_count": 4,
   "metadata": {},
   "outputs": [
    {
     "data": {
      "text/html": [
       "<div>\n",
       "<style scoped>\n",
       "    .dataframe tbody tr th:only-of-type {\n",
       "        vertical-align: middle;\n",
       "    }\n",
       "\n",
       "    .dataframe tbody tr th {\n",
       "        vertical-align: top;\n",
       "    }\n",
       "\n",
       "    .dataframe thead th {\n",
       "        text-align: right;\n",
       "    }\n",
       "</style>\n",
       "<table border=\"1\" class=\"dataframe\">\n",
       "  <thead>\n",
       "    <tr style=\"text-align: right;\">\n",
       "      <th></th>\n",
       "      <th>Absulote Frequency</th>\n",
       "      <th>Relative Frequency</th>\n",
       "      <th>Percent Frequency</th>\n",
       "    </tr>\n",
       "  </thead>\n",
       "  <tbody>\n",
       "    <tr>\n",
       "      <th>0.0</th>\n",
       "      <td>13029</td>\n",
       "      <td>0.499521</td>\n",
       "      <td>49.952076</td>\n",
       "    </tr>\n",
       "    <tr>\n",
       "      <th>1.0</th>\n",
       "      <td>13029</td>\n",
       "      <td>0.499521</td>\n",
       "      <td>49.952076</td>\n",
       "    </tr>\n",
       "  </tbody>\n",
       "</table>\n",
       "</div>"
      ],
      "text/plain": [
       "     Absulote Frequency  Relative Frequency  Percent Frequency\n",
       "0.0               13029            0.499521          49.952076\n",
       "1.0               13029            0.499521          49.952076"
      ]
     },
     "execution_count": 4,
     "metadata": {},
     "output_type": "execute_result"
    }
   ],
   "source": [
    "# creating new dataframe\n",
    "freq_df = pd.DataFrame(df_h['sex'].value_counts())\n",
    "# Relative Frequency = Frequency of bin / No. of observations\n",
    "freq_df['Relative Frequency'] = freq_df['sex']/len(df_h)\n",
    "# Percent Frequency = (Frequency of bin / No. of observations)*100\n",
    "freq_df['Percent Frequency'] = (freq_df['sex']/len(df_h))*100\n",
    "freq_df.rename(columns={\"sex\": \"Absulote Frequency\"}, inplace=True)\n",
    "freq_df"
   ]
  },
  {
   "cell_type": "markdown",
   "metadata": {
    "id": "5wqESWznO8tN"
   },
   "source": [
    "\n",
    "\n",
    "---\n",
    "\n"
   ]
  },
  {
   "cell_type": "markdown",
   "metadata": {},
   "source": [
    "#### Construct a Histogram using “Chol” Variable (cholestoral in mg/dl). "
   ]
  },
  {
   "cell_type": "code",
   "execution_count": 6,
   "metadata": {},
   "outputs": [
    {
     "data": {
      "text/plain": [
       "Text(0, 0.5, 'Frequency')"
      ]
     },
     "execution_count": 6,
     "metadata": {},
     "output_type": "execute_result"
    },
    {
     "data": {
      "image/png": "[encoded data removed]",
      "text/plain": [
       "<Figure size 432x288 with 1 Axes>"
      ]
     },
     "metadata": {
      "needs_background": "light"
     },
     "output_type": "display_data"
    }
   ],
   "source": [
    "# creating histogram with absolute frequency\n",
    "plt.hist(df_h['chol'])\n",
    " \n",
    "# Set the legend and labels\n",
    "plt.title('Histogram for Cholestoral')\n",
    "plt.xlabel('cholestoral in mg/dl')\n",
    "plt.ylabel('Frequency')"
   ]
  },
  {
   "cell_type": "markdown",
   "metadata": {
    "id": "N1A_iNLCRk4C"
   },
   "source": [
    "\n",
    "\n",
    "---\n",
    "\n"
   ]
  },
  {
   "cell_type": "markdown",
   "metadata": {
    "id": "oeRPDsrtRl4W"
   },
   "source": [
    "# **Identify noises in all datasets**"
   ]
  },
  {
   "cell_type": "markdown",
   "metadata": {
    "id": "_w2uEX9LVZCe"
   },
   "source": [
    "### **Missing values**"
   ]
  },
  {
   "cell_type": "code",
   "execution_count": 8,
   "metadata": {
    "colab": {
     "base_uri": "https://localhost:8080/"
    },
    "executionInfo": {
     "elapsed": 21,
     "status": "ok",
     "timestamp": 1676092919077,
     "user": {
      "displayName": "Sora S",
      "userId": "17808392757157594256"
     },
     "user_tz": -180
    },
    "id": "NGzuMwrzRy_n",
    "outputId": "b5926682-6f28-4ae0-8525-740d1dfbb1ea"
   },
   "outputs": [
    {
     "data": {
      "text/plain": [
       "age          0\n",
       "sex         25\n",
       "cp           0\n",
       "trestbps     0\n",
       "chol         0\n",
       "fbs          0\n",
       "restecg      0\n",
       "thalach      0\n",
       "exang        0\n",
       "oldpeak      0\n",
       "slope        0\n",
       "ca           0\n",
       "thal         0\n",
       "target       0\n",
       "dtype: int64"
      ]
     },
     "execution_count": 8,
     "metadata": {},
     "output_type": "execute_result"
    }
   ],
   "source": [
    "# Check if there is missing values \n",
    "df_h.isnull().sum()"
   ]
  },
  {
   "cell_type": "code",
   "execution_count": 9,
   "metadata": {
    "colab": {
     "base_uri": "https://localhost:8080/"
    },
    "executionInfo": {
     "elapsed": 20,
     "status": "ok",
     "timestamp": 1676092919078,
     "user": {
      "displayName": "Sora S",
      "userId": "17808392757157594256"
     },
     "user_tz": -180
    },
    "id": "_PfhmKb7VEj3",
    "outputId": "44df2fdf-eaf9-4662-c7d9-0d293ba59515"
   },
   "outputs": [
    {
     "data": {
      "text/plain": [
       "(26083, 14)"
      ]
     },
     "execution_count": 9,
     "metadata": {},
     "output_type": "execute_result"
    }
   ],
   "source": [
    "df_h.shape"
   ]
  },
  {
   "cell_type": "markdown",
   "metadata": {
    "id": "3mEh4PGVTbnY"
   },
   "source": [
    "- Since the missing values are from 'sex' column, we cann't impute a value with zeros or average. \n",
    "- The dataset has equal distribution of each gender, so we cann't replace the missing values with mode. \n",
    "- It is better to remove these rows because the dataset is large with 26,083 rows and removing the 25 missing rows will not affect the dataset."
   ]
  },
  {
   "cell_type": "code",
   "execution_count": 10,
   "metadata": {
    "executionInfo": {
     "elapsed": 18,
     "status": "ok",
     "timestamp": 1676092919079,
     "user": {
      "displayName": "Sora S",
      "userId": "17808392757157594256"
     },
     "user_tz": -180
    },
    "id": "1L788XsBST8k"
   },
   "outputs": [],
   "source": [
    "# handelling missing values (by removing the rows that contains missing values)\n",
    "df_h = df_h.dropna()"
   ]
  },
  {
   "cell_type": "code",
   "execution_count": 11,
   "metadata": {
    "colab": {
     "base_uri": "https://localhost:8080/"
    },
    "executionInfo": {
     "elapsed": 18,
     "status": "ok",
     "timestamp": 1676092919079,
     "user": {
      "displayName": "Sora S",
      "userId": "17808392757157594256"
     },
     "user_tz": -180
    },
    "id": "VFS8eVaKU-tn",
    "outputId": "7ea41fea-3a0b-47a2-da2e-9ac781cd7533"
   },
   "outputs": [
    {
     "data": {
      "text/plain": [
       "age         0\n",
       "sex         0\n",
       "cp          0\n",
       "trestbps    0\n",
       "chol        0\n",
       "fbs         0\n",
       "restecg     0\n",
       "thalach     0\n",
       "exang       0\n",
       "oldpeak     0\n",
       "slope       0\n",
       "ca          0\n",
       "thal        0\n",
       "target      0\n",
       "dtype: int64"
      ]
     },
     "execution_count": 11,
     "metadata": {},
     "output_type": "execute_result"
    }
   ],
   "source": [
    "# checking again\n",
    "df_h.isnull().sum()"
   ]
  },
  {
   "cell_type": "markdown",
   "metadata": {
    "id": "HSS6asSwVgOz"
   },
   "source": [
    "### **Duplicated rows**"
   ]
  },
  {
   "cell_type": "code",
   "execution_count": 12,
   "metadata": {
    "colab": {
     "base_uri": "https://localhost:8080/"
    },
    "executionInfo": {
     "elapsed": 16,
     "status": "ok",
     "timestamp": 1676092919079,
     "user": {
      "displayName": "Sora S",
      "userId": "17808392757157594256"
     },
     "user_tz": -180
    },
    "id": "uOMRt8oQVjWy",
    "outputId": "44c9d860-ddf5-48e9-a3d2-7df1c83d1ac8"
   },
   "outputs": [
    {
     "data": {
      "text/plain": [
       "0"
      ]
     },
     "execution_count": 12,
     "metadata": {},
     "output_type": "execute_result"
    }
   ],
   "source": [
    "# checking if there is duplicated rows\n",
    "df_h.duplicated().sum()"
   ]
  },
  {
   "cell_type": "markdown",
   "metadata": {
    "id": "ekqE3wdvVwUa"
   },
   "source": [
    "It apears that there is no duplicated values"
   ]
  },
  {
   "cell_type": "markdown",
   "metadata": {
    "id": "Lc4PzuldV459"
   },
   "source": [
    "### **Outliers**"
   ]
  },
  {
   "cell_type": "code",
   "execution_count": 13,
   "metadata": {
    "colab": {
     "base_uri": "https://localhost:8080/",
     "height": 501
    },
    "executionInfo": {
     "elapsed": 15,
     "status": "ok",
     "timestamp": 1676092919080,
     "user": {
      "displayName": "Sora S",
      "userId": "17808392757157594256"
     },
     "user_tz": -180
    },
    "id": "je4tOIvOV7H9",
    "outputId": "5b07570e-e87e-4366-d6a4-54f9d05dda70"
   },
   "outputs": [
    {
     "data": {
      "text/plain": [
       "<AxesSubplot:>"
      ]
     },
     "execution_count": 13,
     "metadata": {},
     "output_type": "execute_result"
    },
    {
     "data": {
      "image/png": "[encoded data removed]",
      "text/plain": [
       "<Figure size 1080x576 with 1 Axes>"
      ]
     },
     "metadata": {
      "needs_background": "light"
     },
     "output_type": "display_data"
    }
   ],
   "source": [
    "# Check if there any outliers in the quantitative variables by visualization\n",
    "col_list = df_h.columns\n",
    "col_list=list(col_list)\n",
    "df_h.boxplot(column=['age', 'trestbps', 'chol', 'thalach','oldpeak'], figsize=(15,8) )"
   ]
  },
  {
   "cell_type": "markdown",
   "metadata": {
    "id": "Qyc4LHcusXeR"
   },
   "source": [
    "As we can see, there is some outliers in the columns ['trestbps', 'chol', 'thalach','oldpeak'] and need to be handled."
   ]
  },
  {
   "cell_type": "code",
   "execution_count": 14,
   "metadata": {
    "executionInfo": {
     "elapsed": 12,
     "status": "ok",
     "timestamp": 1676092919080,
     "user": {
      "displayName": "Sora S",
      "userId": "17808392757157594256"
     },
     "user_tz": -180
    },
    "id": "eN_vvNyvsjcg"
   },
   "outputs": [],
   "source": [
    "# handling outliers\n",
    "# Outlier removal\n",
    "from numpy import percentile\n",
    "\n",
    "for col_name in ['trestbps', 'chol', 'thalach','oldpeak']:\n",
    "    q25, q75 = percentile(df_h[col_name], 25), percentile(df_h[col_name], 75)\n",
    "    iqr = q75 - q25\n",
    "    \n",
    "    # calculate the outlier cutoff\n",
    "    cut_off = iqr * 1.5\n",
    "    lower, upper = q25 - cut_off, q75 + cut_off\n",
    "    df_h.loc[df_h[col_name] > upper, col_name] = upper\n",
    "    df_h.loc[df_h[col_name] < lower, col_name] = lower  "
   ]
  },
  {
   "cell_type": "markdown",
   "metadata": {
    "id": "YuF3Vg27tcOE"
   },
   "source": [
    "We can detect the outliers and remove it by following these steps:\n",
    "-\tCalculate the interquartile range for the data.\n",
    "-\tCalculate the upper bound by adding 1.5 * (IQR) to the third quartile.\n",
    "-\tCalculate the lower bound by subtracting 1.5 * (IQR) from the first quartile.\n",
    "-\tAny number greater than the upper bound or less than the lower bound is a suspected outlier.\n",
    "- For all these outliers, replace the value of the outlier with the close upper or lower bound value. "
   ]
  },
  {
   "cell_type": "code",
   "execution_count": 15,
   "metadata": {
    "colab": {
     "base_uri": "https://localhost:8080/",
     "height": 501
    },
    "executionInfo": {
     "elapsed": 849,
     "status": "ok",
     "timestamp": 1676092919917,
     "user": {
      "displayName": "Sora S",
      "userId": "17808392757157594256"
     },
     "user_tz": -180
    },
    "id": "0l7lnu45tW6Y",
    "outputId": "c2d67082-e89d-4d5c-87e6-ee8606e05ddd"
   },
   "outputs": [
    {
     "data": {
      "text/plain": [
       "<AxesSubplot:>"
      ]
     },
     "execution_count": 15,
     "metadata": {},
     "output_type": "execute_result"
    },
    {
     "data": {
      "image/png": "[encoded data removed]",
      "text/plain": [
       "<Figure size 1080x576 with 1 Axes>"
      ]
     },
     "metadata": {
      "needs_background": "light"
     },
     "output_type": "display_data"
    }
   ],
   "source": [
    "# Checking\n",
    "col_list = df_h.columns\n",
    "col_list=list(col_list)\n",
    "df_h.boxplot(column=['age', 'trestbps', 'chol', 'thalach','oldpeak'], figsize=(15,8) )"
   ]
  },
  {
   "cell_type": "markdown",
   "metadata": {
    "id": "Pvb8iSl8qNlJ"
   },
   "source": [
    "\n",
    "\n",
    "---\n",
    "\n"
   ]
  },
  {
   "cell_type": "markdown",
   "metadata": {
    "id": "SG3KW3h8qUiW"
   },
   "source": [
    "# **visualize the data**\n",
    "The maximum number of graphs for each dataset in your report should not exceed four. You are free to select the types of graphs to be included according to your dataset and the types of variables you would like to chart."
   ]
  },
  {
   "cell_type": "code",
   "execution_count": 25,
   "metadata": {
    "colab": {
     "base_uri": "https://localhost:8080/",
     "height": 405
    },
    "executionInfo": {
     "elapsed": 1421,
     "status": "ok",
     "timestamp": 1676092936433,
     "user": {
      "displayName": "Sora S",
      "userId": "17808392757157594256"
     },
     "user_tz": -180
    },
    "id": "5FvnWByUqPgS",
    "outputId": "35292092-898b-4796-cecf-991e417c9c5f"
   },
   "outputs": [
    {
     "data": {
      "image/png": "[encoded data removed]",
      "text/plain": [
       "<Figure size 864x432 with 2 Axes>"
      ]
     },
     "metadata": {
      "needs_background": "light"
     },
     "output_type": "display_data"
    }
   ],
   "source": [
    "# Plot the target variable to see the distribution of each category\n",
    "\n",
    "plt.figure(figsize=(12,6))\n",
    "\n",
    "# Pie Chart \n",
    "plt.subplot(1, 2, 1)\n",
    "plt.title('Pie Chart', fontweight='bold', fontsize=14, fontfamily='sans-serif')\n",
    "plt.pie(df_h['target'].value_counts(), labels=['Disease', 'Normal'], \n",
    "        wedgeprops=dict(alpha=0.8), autopct='%.2f%%',\n",
    "        pctdistance=0.7, textprops={'fontsize':12})\n",
    "centre=plt.Circle((0, 0), 0.45, fc='white')\n",
    "plt.gcf().gca().add_artist(centre)\n",
    "\n",
    "# Histogram\n",
    "countplt = plt.subplot(1, 2, 2)\n",
    "plt.title('Histogram', fontweight='bold', fontsize=14, fontfamily='sans-serif')\n",
    "ax = sns.countplot(x='target', data=df_h, order=df_h['target'].value_counts().index, alpha=0.85)\n",
    "for rect in ax.patches:\n",
    "    ax.text (rect.get_x()+rect.get_width()/2, \n",
    "             rect.get_height()+4.25,rect.get_height(), \n",
    "             horizontalalignment='center', fontsize=10,\n",
    "             bbox=dict(facecolor='none', linewidth=0.25,\n",
    "                       boxstyle='round'))"
   ]
  },
  {
   "cell_type": "code",
   "execution_count": 26,
   "metadata": {
    "colab": {
     "base_uri": "https://localhost:8080/",
     "height": 297
    },
    "executionInfo": {
     "elapsed": 8,
     "status": "ok",
     "timestamp": 1676092936433,
     "user": {
      "displayName": "Sora S",
      "userId": "17808392757157594256"
     },
     "user_tz": -180
    },
    "id": "GpMZ6QDUtdnX",
    "outputId": "7a3f2baf-7c3e-4b2c-ce36-24a46949c59a"
   },
   "outputs": [
    {
     "data": {
      "text/plain": [
       "<AxesSubplot:xlabel='sex', ylabel='count'>"
      ]
     },
     "execution_count": 26,
     "metadata": {},
     "output_type": "execute_result"
    },
    {
     "data": {
      "image/png": "[encoded data removed]",
      "text/plain": [
       "<Figure size 432x288 with 1 Axes>"
      ]
     },
     "metadata": {
      "needs_background": "light"
     },
     "output_type": "display_data"
    }
   ],
   "source": [
    "# Examining how the target distributed among each gender\n",
    "sns.countplot(data=df_h, x='sex', hue='target')"
   ]
  },
  {
   "cell_type": "markdown",
   "metadata": {
    "id": "P6kwVado7gjt"
   },
   "source": [
    "\n",
    "\n",
    "---\n",
    "\n"
   ]
  },
  {
   "cell_type": "markdown",
   "metadata": {
    "id": "_NSrIMH5Mqy2"
   },
   "source": [
    "# **Using logistic regression to classify observations in the dataset**"
   ]
  },
  {
   "cell_type": "code",
   "execution_count": 51,
   "metadata": {
    "executionInfo": {
     "elapsed": 869,
     "status": "ok",
     "timestamp": 1676092997533,
     "user": {
      "displayName": "Sora S",
      "userId": "17808392757157594256"
     },
     "user_tz": -180
    },
    "id": "JHecSOspNMv-"
   },
   "outputs": [],
   "source": [
    "from sklearn.linear_model import LogisticRegression\n",
    "from dmba.metric import AIC_score\n",
    "from sklearn.metrics import precision_score, recall_score, f1_score, accuracy_score\n",
    "from sklearn.metrics import confusion_matrix\n",
    "from sklearn.metrics import plot_confusion_matrix\n",
    "from sklearn.metrics import ConfusionMatrixDisplay"
   ]
  },
  {
   "cell_type": "markdown",
   "metadata": {},
   "source": [
    "#### Steps for Logistic Regression Classification\n",
    "- Choosing the set of predictor.\n",
    "- Splitting the dataset into training and testing.\n",
    "- Fit the Logistic Regression on the training set.\n",
    "- Print the coefficients and the intercept.\n",
    "- Test the model using the test set.\n",
    "- Calculate performance metrics."
   ]
  },
  {
   "cell_type": "markdown",
   "metadata": {
    "id": "KeQ0ZHwNSB2i"
   },
   "source": [
    "### Model 1 : Predict using all predictors"
   ]
  },
  {
   "cell_type": "code",
   "execution_count": 52,
   "metadata": {
    "executionInfo": {
     "elapsed": 20,
     "status": "aborted",
     "timestamp": 1676092937700,
     "user": {
      "displayName": "Sora S",
      "userId": "17808392757157594256"
     },
     "user_tz": -180
    },
    "id": "GUvLn7TUN7C4"
   },
   "outputs": [],
   "source": [
    "X = df_h.drop(\"target\",axis=1)\n",
    "y = df_h[\"target\"]"
   ]
  },
  {
   "cell_type": "code",
   "execution_count": 53,
   "metadata": {
    "executionInfo": {
     "elapsed": 19,
     "status": "aborted",
     "timestamp": 1676092937700,
     "user": {
      "displayName": "Sora S",
      "userId": "17808392757157594256"
     },
     "user_tz": -180
    },
    "id": "7VuIS-YhOUXn"
   },
   "outputs": [],
   "source": [
    "X_train, X_test, y_train, y_test = train_test_split(X, y, test_size=0.25, random_state=42)"
   ]
  },
  {
   "cell_type": "code",
   "execution_count": 54,
   "metadata": {
    "executionInfo": {
     "elapsed": 19,
     "status": "aborted",
     "timestamp": 1676092937700,
     "user": {
      "displayName": "Sora S",
      "userId": "17808392757157594256"
     },
     "user_tz": -180
    },
    "id": "oz0NeubqMzTp"
   },
   "outputs": [
    {
     "name": "stdout",
     "output_type": "stream",
     "text": [
      "intercept  2.4726602601378773\n",
      "             coeff\n",
      "age       0.001095\n",
      "sex      -0.001638\n",
      "cp        0.802598\n",
      "trestbps -0.015698\n",
      "chol     -0.001472\n",
      "fbs      -0.206690\n",
      "restecg   0.540180\n",
      "thalach   0.017363\n",
      "exang    -0.974909\n",
      "oldpeak  -0.674460\n",
      "slope     0.434108\n",
      "ca       -0.789545\n",
      "thal     -1.163566\n",
      "AIC 5926.6017995373295\n",
      "Training Accuracy  0.8542189019086118\n",
      "Testing Accuracy  0.8552570990023024\n"
     ]
    }
   ],
   "source": [
    "lr = LogisticRegression(penalty='l2', C=20, solver='liblinear')\n",
    "lr.fit(X_train, y_train)\n",
    "\n",
    "print('intercept ', lr.intercept_[0])\n",
    "print(pd.DataFrame({'coeff': lr.coef_[0]}, index=X.columns))\n",
    "print('AIC', AIC_score(y_test, lr.predict(X_test), df = len(X_train.columns) + 1 ))\n",
    "\n",
    "#prediction\n",
    "y_pred_test = lr.predict(X_test)\n",
    "y_pred_train = lr.predict(X_train)\n",
    "\n",
    "#scores\n",
    "print(\"Training Accuracy \", accuracy_score(y_train, y_pred_train))\n",
    "print(\"Testing Accuracy \",accuracy_score(y_test, y_pred_test))"
   ]
  },
  {
   "cell_type": "markdown",
   "metadata": {
    "id": "r-m2uoAPSIrY"
   },
   "source": [
    "### Model 2 : Predict using set of 7 predictors"
   ]
  },
  {
   "cell_type": "code",
   "execution_count": 55,
   "metadata": {
    "executionInfo": {
     "elapsed": 19,
     "status": "aborted",
     "timestamp": 1676092937700,
     "user": {
      "displayName": "Sora S",
      "userId": "17808392757157594256"
     },
     "user_tz": -180
    },
    "id": "BLFb0ubuSOJ3"
   },
   "outputs": [
    {
     "data": {
      "image/png": "[encoded data removed]",
      "text/plain": [
       "<Figure size 360x360 with 2 Axes>"
      ]
     },
     "metadata": {
      "needs_background": "light"
     },
     "output_type": "display_data"
    }
   ],
   "source": [
    "corr = df_h.corrwith(df_h['target']).sort_values(ascending = False).to_frame()\n",
    "corr.columns = ['Correlations']\n",
    "plt.subplots(figsize = (5,5))\n",
    "sns.heatmap(corr,annot = True,cmap = 'plasma',linewidths = 0.4,linecolor = 'black');\n",
    "plt.title('Correlation w.r.t Hypertension ');"
   ]
  },
  {
   "cell_type": "code",
   "execution_count": 57,
   "metadata": {
    "executionInfo": {
     "elapsed": 19,
     "status": "aborted",
     "timestamp": 1676092937700,
     "user": {
      "displayName": "Sora S",
      "userId": "17808392757157594256"
     },
     "user_tz": -180
    },
    "id": "1weoSQa_S-DA"
   },
   "outputs": [],
   "source": [
    "X = df_h.drop([\"target\",'sex', 'age','fbs','chol','trestbps','restecg'],axis=1)\n",
    "y = df_h[\"target\"]"
   ]
  },
  {
   "cell_type": "code",
   "execution_count": 58,
   "metadata": {
    "executionInfo": {
     "elapsed": 20,
     "status": "aborted",
     "timestamp": 1676092937701,
     "user": {
      "displayName": "Sora S",
      "userId": "17808392757157594256"
     },
     "user_tz": -180
    },
    "id": "-MZXNj2lTgFj"
   },
   "outputs": [],
   "source": [
    "X_train, X_test, y_train, y_test = train_test_split(X, y, test_size=0.25, random_state=42)"
   ]
  },
  {
   "cell_type": "code",
   "execution_count": 59,
   "metadata": {
    "executionInfo": {
     "elapsed": 20,
     "status": "aborted",
     "timestamp": 1676092937701,
     "user": {
      "displayName": "Sora S",
      "userId": "17808392757157594256"
     },
     "user_tz": -180
    },
    "id": "6IMjWFYPTjYX"
   },
   "outputs": [
    {
     "name": "stdout",
     "output_type": "stream",
     "text": [
      "intercept  0.4429596848782321\n",
      "            coeff\n",
      "cp       0.751675\n",
      "thalach  0.016221\n",
      "exang   -1.029444\n",
      "oldpeak -0.668358\n",
      "slope    0.451325\n",
      "ca      -0.799484\n",
      "thal    -1.094908\n",
      "AIC 5559.666542590745\n",
      "Training Accuracy  0.8629176687304917\n",
      "Testing Accuracy  0.8629316960859554\n"
     ]
    }
   ],
   "source": [
    "lr = LogisticRegression(penalty='l2', C=2, solver='liblinear')\n",
    "lr = lr.fit(X_train, y_train)\n",
    "\n",
    "print('intercept ', lr.intercept_[0])\n",
    "print(pd.DataFrame({'coeff': lr.coef_[0]}, index=X.columns))\n",
    "print('AIC', AIC_score(y_test, lr.predict(X_test), df = len(X_train.columns) + 1 ))\n",
    "#prediction\n",
    "y_pred_test = lr.predict(X_test)\n",
    "y_pred_train = lr.predict(X_train)\n",
    "#scores\n",
    "print(\"Training Accuracy \", accuracy_score(y_train, y_pred_train))\n",
    "print(\"Testing Accuracy \",accuracy_score(y_test, y_pred_test))"
   ]
  },
  {
   "cell_type": "markdown",
   "metadata": {
    "id": "1fQ5uyN1ZTsi"
   },
   "source": [
    "### Model 3 : Try different cut-off values"
   ]
  },
  {
   "cell_type": "code",
   "execution_count": 60,
   "metadata": {
    "executionInfo": {
     "elapsed": 20,
     "status": "aborted",
     "timestamp": 1676092937701,
     "user": {
      "displayName": "Sora S",
      "userId": "17808392757157594256"
     },
     "user_tz": -180
    },
    "id": "j7ObXnoDWiV-"
   },
   "outputs": [],
   "source": [
    "# Predicted probability\n",
    "y_predict_prob = lr.predict_proba(X_test)"
   ]
  },
  {
   "cell_type": "markdown",
   "metadata": {
    "id": "uFjsN2A1Y-dH"
   },
   "source": [
    "The model.predict_proba function predicts 2 probabilities, the probability of data point in class 0 and in class 1. "
   ]
  },
  {
   "cell_type": "code",
   "execution_count": 61,
   "metadata": {
    "executionInfo": {
     "elapsed": 20,
     "status": "aborted",
     "timestamp": 1676092937701,
     "user": {
      "displayName": "Sora S",
      "userId": "17808392757157594256"
     },
     "user_tz": -180
    },
    "id": "oRAaaoqNXcyt"
   },
   "outputs": [],
   "source": [
    "# Extracting predicted probability of class 1\n",
    "y_predict_prob_class_1 = y_predict_prob[:,1]"
   ]
  },
  {
   "cell_type": "markdown",
   "metadata": {
    "id": "TtRU9rNHYfj4"
   },
   "source": [
    "Now we can define a threshold by using list comprehension. \n",
    "- the patients with the predicted probability of class 1 larger than 0.6 will be assigned to class 1 (having hypertension)\n",
    "- ≤ 0.6 predicted probability of class 0 "
   ]
  },
  {
   "cell_type": "code",
   "execution_count": 62,
   "metadata": {
    "executionInfo": {
     "elapsed": 21,
     "status": "aborted",
     "timestamp": 1676092937702,
     "user": {
      "displayName": "Sora S",
      "userId": "17808392757157594256"
     },
     "user_tz": -180
    },
    "id": "_dDM1oDFXgix"
   },
   "outputs": [
    {
     "name": "stdout",
     "output_type": "stream",
     "text": [
      "Accuracy: 0.829\n"
     ]
    }
   ],
   "source": [
    "# Define threshold 0.6\n",
    "y_predict_class = [1 if prob > 0.6 else 0 for prob in y_predict_prob_class_1]\n",
    "print(\"Accuracy:\", round(accuracy_score(y_test, y_predict_class), 3))"
   ]
  },
  {
   "cell_type": "markdown",
   "metadata": {
    "id": "vXloWHT3Zif-"
   },
   "source": [
    "The best performance when choosing the cutoff to be 0.5, since the target variable already has equal distribution in each class."
   ]
  },
  {
   "cell_type": "markdown",
   "metadata": {
    "id": "BfF0PnpMaTlX"
   },
   "source": [
    "\n",
    "\n",
    "---\n",
    "\n"
   ]
  },
  {
   "cell_type": "markdown",
   "metadata": {
    "id": "YwQholNiaUSw"
   },
   "source": [
    "# **Computing the values of sensitivity and precision corresponding to the confusion matrix created using the cutoff value of 0.5**"
   ]
  },
  {
   "cell_type": "code",
   "execution_count": 344,
   "metadata": {
    "executionInfo": {
     "elapsed": 20,
     "status": "aborted",
     "timestamp": 1676092937702,
     "user": {
      "displayName": "Sora S",
      "userId": "17808392757157594256"
     },
     "user_tz": -180
    },
    "id": "bY-P50Kqa2y-"
   },
   "outputs": [],
   "source": [
    "# Define threshold 0.5\n",
    "y_predict_class = [1 if prob > 0.5 else 0 for prob in y_predict_prob_class_1]"
   ]
  },
  {
   "cell_type": "code",
   "execution_count": 66,
   "metadata": {
    "executionInfo": {
     "elapsed": 20,
     "status": "aborted",
     "timestamp": 1676092937702,
     "user": {
      "displayName": "Sora S",
      "userId": "17808392757157594256"
     },
     "user_tz": -180
    },
    "id": "OvJ319BIaYje"
   },
   "outputs": [
    {
     "name": "stdout",
     "output_type": "stream",
     "text": [
      "Precision: 0.85\n",
      "Sensitivity: 0.913\n",
      "Accuracy: 0.863\n"
     ]
    },
    {
     "data": {
      "image/png": "[encoded data removed]",
      "text/plain": [
       "<Figure size 432x288 with 2 Axes>"
      ]
     },
     "metadata": {
      "needs_background": "light"
     },
     "output_type": "display_data"
    }
   ],
   "source": [
    "# Calculate the Confusion Matrix\n",
    "cm = confusion_matrix(y_test,y_predict_class)\n",
    "names = ['True Neg','False Pos','False Neg','True Pos']  \n",
    "\n",
    "# Confusion Matrix Plot\n",
    "counts = [value for value in cm.flatten()]\n",
    "percentages = ['{0:.2%}'.format(value) for value in cm.flatten()/np.sum(cm)]    \n",
    "labels = [f'{v1}\\n{v2}\\n{v3}' for v1, v2, v3 in zip(names,counts,percentages)]\n",
    "labels = np.asarray(labels).reshape(2,2)\n",
    "sns.heatmap(cm,annot = labels,cmap = 'Blues',fmt ='')\n",
    "plt.title('Confusion_Matrix_Plot')\n",
    "\n",
    "# Precision\n",
    "print(\"Precision:\", round(precision_score(y_test, y_predict_class),3) )\n",
    "# Recal = Sensitivity\n",
    "print(\"Sensitivity:\", round(recall_score(y_test, y_predict_class),3))\n",
    "# Accuracy\n",
    "print(\"Accuracy:\", round(accuracy_score(y_test, y_predict_class), 3))"
   ]
  },
  {
   "cell_type": "markdown",
   "metadata": {
    "id": "8l18v_1AcRP3"
   },
   "source": [
    "\n",
    "\n",
    "---\n",
    "\n"
   ]
  }
 ],
 "metadata": {
  "colab": {
   "authorship_tag": "ABX9TyNiuzaINRiZX9WTxytwgbEO",
   "provenance": []
  },
  "kernelspec": {
   "display_name": "Python 3 (ipykernel)",
   "language": "python",
   "name": "python3"
  },
  "language_info": {
   "codemirror_mode": {
    "name": "ipython",
    "version": 3
   },
   "file_extension": ".py",
   "mimetype": "text/x-python",
   "name": "python",
   "nbconvert_exporter": "python",
   "pygments_lexer": "ipython3",
   "version": "3.8.8"
  }
 },
 "nbformat": 4,
 "nbformat_minor": 1
}
